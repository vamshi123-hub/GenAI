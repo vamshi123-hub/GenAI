{
 "cells": [
  {
   "cell_type": "code",
   "execution_count": 1,
   "metadata": {},
   "outputs": [
    {
     "data": {
      "text/plain": [
       "'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'"
      ]
     },
     "execution_count": 1,
     "metadata": {},
     "output_type": "execute_result"
    }
   ],
   "source": [
    "import os\n",
    "from dotenv import load_dotenv\n",
    "load_dotenv()\n",
    "groq_api_key = os.getenv(\"GROQ_API_KEY\")\n",
    "groq_api_key"
   ]
  },
  {
   "cell_type": "code",
   "execution_count": 2,
   "metadata": {},
   "outputs": [
    {
     "data": {
      "text/plain": [
       "ChatGroq(client=<groq.resources.chat.completions.Completions object at 0x10b6f0e50>, async_client=<groq.resources.chat.completions.AsyncCompletions object at 0x10b6f19c0>, model_name='Gemma2-9b-it', groq_api_key=SecretStr('**********'))"
      ]
     },
     "execution_count": 2,
     "metadata": {},
     "output_type": "execute_result"
    }
   ],
   "source": [
    "from langchain_groq import ChatGroq\n",
    "model = ChatGroq(model = \"Gemma2-9b-it\",groq_api_key = groq_api_key)\n",
    "model"
   ]
  },
  {
   "cell_type": "code",
   "execution_count": 3,
   "metadata": {},
   "outputs": [
    {
     "data": {
      "text/plain": [
       "AIMessage(content=\"Hello Vamshi, \\n\\nIt's nice to meet you! \\n\\nAs an AI assistant myself, I'm always interested in connecting with other AI engineers. What kind of work do you specialize in? \\n\\nI'm eager to learn more about your experience and expertise. 😊  \\n\\n\", response_metadata={'token_usage': {'completion_tokens': 65, 'prompt_tokens': 24, 'total_tokens': 89, 'completion_time': 0.118181818, 'prompt_time': 0.000596908, 'queue_time': 0.041857608, 'total_time': 0.118778726}, 'model_name': 'Gemma2-9b-it', 'system_fingerprint': 'fp_10c08bf97d', 'finish_reason': 'stop', 'logprobs': None}, id='run-5ace522d-876f-4871-9dfb-fe79b5fba46b-0', usage_metadata={'input_tokens': 24, 'output_tokens': 65, 'total_tokens': 89})"
      ]
     },
     "execution_count": 3,
     "metadata": {},
     "output_type": "execute_result"
    }
   ],
   "source": [
    "from langchain_core.messages import HumanMessage\n",
    "model.invoke([HumanMessage(content = \"Hi, My Name is Vamshi and I am a AI Enginner\")])\n"
   ]
  },
  {
   "cell_type": "code",
   "execution_count": 4,
   "metadata": {},
   "outputs": [
    {
     "data": {
      "text/plain": [
       "AIMessage(content=\"You told me your name is Vamshi and that you are an AI Engineer!  😊 \\n\\nIs there anything else you'd like to chat about? \\n\", response_metadata={'token_usage': {'completion_tokens': 37, 'prompt_tokens': 71, 'total_tokens': 108, 'completion_time': 0.067272727, 'prompt_time': 0.010416489, 'queue_time': 0.096851224, 'total_time': 0.077689216}, 'model_name': 'Gemma2-9b-it', 'system_fingerprint': 'fp_10c08bf97d', 'finish_reason': 'stop', 'logprobs': None}, id='run-44e5e349-98a6-4657-8758-064d9060ad82-0', usage_metadata={'input_tokens': 71, 'output_tokens': 37, 'total_tokens': 108})"
      ]
     },
     "execution_count": 4,
     "metadata": {},
     "output_type": "execute_result"
    }
   ],
   "source": [
    "from langchain_core.messages import AIMessage\n",
    "model.invoke([HumanMessage(content = \"Hi, My Name is Vamshi and I am a AI Enginner\"),\n",
    "              AIMessage(content = \"Hello Vamshi!\\n\\nIt's nice to meet you.  \\n\\nBeing an AI Engineer is a fascinating field.\"),\n",
    "              HumanMessage(content = \"Hey What's My Name and What do I do?\")\n",
    "              ])"
   ]
  },
  {
   "cell_type": "code",
   "execution_count": 5,
   "metadata": {},
   "outputs": [],
   "source": [
    "from langchain_community.chat_message_histories import ChatMessageHistory\n",
    "from langchain_core.chat_history import BaseChatMessageHistory\n",
    "from langchain_core.runnables.history import RunnableWithMessageHistory\n",
    "store = {}\n",
    "def get_session_history(session_id:str) -> BaseChatMessageHistory:\n",
    "    if session_id not in store :\n",
    "        store[session_id] = ChatMessageHistory()\n",
    "    return store[session_id]\n",
    "with_message_history = RunnableWithMessageHistory(model, get_session_history)"
   ]
  },
  {
   "cell_type": "code",
   "execution_count": 6,
   "metadata": {},
   "outputs": [],
   "source": [
    "config = {\"configurable\":{\"session_id\":\"chat1\"}}"
   ]
  },
  {
   "cell_type": "code",
   "execution_count": 7,
   "metadata": {},
   "outputs": [],
   "source": [
    "response = with_message_history.invoke([\n",
    "    HumanMessage(content = \"Hi, My Name is Vamshi and I am a AI Enginner\")],\n",
    "    config = config\n",
    ")\n"
   ]
  },
  {
   "cell_type": "code",
   "execution_count": 8,
   "metadata": {},
   "outputs": [
    {
     "data": {
      "text/plain": [
       "\"Hello Vamshi!\\n\\nIt's great to meet you. Being an AI Engineer is fascinating! What kind of projects are you working on? \\n\\nI'm always eager to learn more about the work people are doing in the field of AI.\\n\""
      ]
     },
     "execution_count": 8,
     "metadata": {},
     "output_type": "execute_result"
    }
   ],
   "source": [
    "response.content"
   ]
  },
  {
   "cell_type": "code",
   "execution_count": 9,
   "metadata": {},
   "outputs": [
    {
     "data": {
      "text/plain": [
       "AIMessage(content=\"You told me your name is Vamshi and that you are an AI Engineer!  😄  \\n\\nIs there anything else you'd like to tell me about yourself or your work?  I'm curious to learn more. \\n\", response_metadata={'token_usage': {'completion_tokens': 51, 'prompt_tokens': 99, 'total_tokens': 150, 'completion_time': 0.092727273, 'prompt_time': 0.007012669, 'queue_time': 0.00654031, 'total_time': 0.099739942}, 'model_name': 'Gemma2-9b-it', 'system_fingerprint': 'fp_10c08bf97d', 'finish_reason': 'stop', 'logprobs': None}, id='run-8b21f575-2ab2-4f03-a5ef-73c1c42be928-0', usage_metadata={'input_tokens': 99, 'output_tokens': 51, 'total_tokens': 150})"
      ]
     },
     "execution_count": 9,
     "metadata": {},
     "output_type": "execute_result"
    }
   ],
   "source": [
    "with_message_history.invoke([\n",
    "    HumanMessage(content = \"Hey What's My Name and What do I do?\")],\n",
    "    config = config\n",
    ")"
   ]
  },
  {
   "cell_type": "code",
   "execution_count": 10,
   "metadata": {},
   "outputs": [
    {
     "data": {
      "text/plain": [
       "\"As an AI, I don't know your name!  \\n\\nTo help me out, could you tell me what your name is? 😊  \\n\\n\""
      ]
     },
     "execution_count": 10,
     "metadata": {},
     "output_type": "execute_result"
    }
   ],
   "source": [
    "#Change Config Session ID\n",
    "config1 = {\"configurable\":{\"session_id\":\"chat2\"}}\n",
    "response = with_message_history.invoke([\n",
    "    HumanMessage(content = \"Hey What's My Name\")],\n",
    "    config = config1\n",
    ")\n",
    "response.content\n"
   ]
  },
  {
   "cell_type": "code",
   "execution_count": 11,
   "metadata": {},
   "outputs": [
    {
     "data": {
      "text/plain": [
       "\"Hi Vamshi! It's nice to meet you. 😊 \\n\\nIs there anything I can help you with today?\\n\""
      ]
     },
     "execution_count": 11,
     "metadata": {},
     "output_type": "execute_result"
    }
   ],
   "source": [
    "response = with_message_history.invoke([\n",
    "    HumanMessage(content = \"Hi, My Name is Vamshi\")],\n",
    "    config = config1\n",
    ")\n",
    "response.content"
   ]
  },
  {
   "cell_type": "code",
   "execution_count": 12,
   "metadata": {},
   "outputs": [
    {
     "data": {
      "text/plain": [
       "\"That's a fun question!  It seems like you're playing with words a bit. 😄 \\n\\nYou told me your name is Vamshi earlier.  \\n\\nDo you want to try another word game?  \\n\\n\\n\\n\\n\\n\""
      ]
     },
     "execution_count": 12,
     "metadata": {},
     "output_type": "execute_result"
    }
   ],
   "source": [
    "response = with_message_history.invoke([\n",
    "    HumanMessage(content = \"Hey What's My Name\")],\n",
    "    config = config1\n",
    ")\n",
    "response.content"
   ]
  },
  {
   "cell_type": "code",
   "execution_count": 13,
   "metadata": {},
   "outputs": [],
   "source": [
    "from langchain_core.prompts import ChatPromptTemplate, MessagesPlaceholder\n",
    "prompt = ChatPromptTemplate.from_messages([\n",
    "    (\"system\",\"You are an helpful assistant, Answer all the questions to the best of your ability\"),\n",
    "    MessagesPlaceholder(variable_name = \"messages\")\n",
    "])\n",
    "chain = prompt| model"
   ]
  },
  {
   "cell_type": "code",
   "execution_count": 14,
   "metadata": {},
   "outputs": [
    {
     "data": {
      "text/plain": [
       "AIMessage(content=\"Hello Vamshi! It's nice to meet you. \\n\\nHow can I help you today? 😊 \\n\", response_metadata={'token_usage': {'completion_tokens': 27, 'prompt_tokens': 31, 'total_tokens': 58, 'completion_time': 0.049090909, 'prompt_time': 0.000344489, 'queue_time': 0.015156739, 'total_time': 0.049435398}, 'model_name': 'Gemma2-9b-it', 'system_fingerprint': 'fp_10c08bf97d', 'finish_reason': 'stop', 'logprobs': None}, id='run-6cd60c74-3ff0-431b-ae16-d73e35ec5233-0', usage_metadata={'input_tokens': 31, 'output_tokens': 27, 'total_tokens': 58})"
      ]
     },
     "execution_count": 14,
     "metadata": {},
     "output_type": "execute_result"
    }
   ],
   "source": [
    "chain.invoke({\"messages\":[HumanMessage(content= \"Hi I am Vamshi\")]})"
   ]
  },
  {
   "cell_type": "code",
   "execution_count": 15,
   "metadata": {},
   "outputs": [],
   "source": [
    "with_message_history = RunnableWithMessageHistory(chain,get_session_history,)"
   ]
  },
  {
   "cell_type": "code",
   "execution_count": 16,
   "metadata": {},
   "outputs": [
    {
     "data": {
      "text/plain": [
       "\"Hello Vamshi! \\n\\nIt's nice to meet you. How can I help you today? \\n\\nDo you have any questions for me, or would you like to chat about something specific? 😊 \\n\""
      ]
     },
     "execution_count": 16,
     "metadata": {},
     "output_type": "execute_result"
    }
   ],
   "source": [
    "config = {\"configurable\":{\"session_id\":\"chat3\"}}\n",
    "response = with_message_history.invoke([\n",
    "    HumanMessage(content = \"Hi I am Vamshi\")],\n",
    "    config = config\n",
    "    )\n",
    "response.content"
   ]
  },
  {
   "cell_type": "code",
   "execution_count": 17,
   "metadata": {},
   "outputs": [],
   "source": [
    "#Add More Complexity With a Particular Language\n",
    "prompt = ChatPromptTemplate.from_messages([\n",
    "    (\"system\",\"You are an helpful assistant, Answer all the questions to the best of your ability in {language}.\"),\n",
    "    MessagesPlaceholder(variable_name = \"messages\"),\n",
    "])\n",
    "chain = prompt| model"
   ]
  },
  {
   "cell_type": "code",
   "execution_count": 18,
   "metadata": {},
   "outputs": [
    {
     "data": {
      "text/plain": [
       "'నమస్కారం వంశీ! 😊 \\n\\nనాకు మీ ప్రశ్నలకు సమాధానం చెప్పడం నచ్చుతుంది. మీరు ఏం అడిగితే, నేను నా సామర్థ్యం మేరకు సహాయం చేస్తాను. \\n\\nమీరు ఏమి తెలుసుకోవాలని కోరుతున్నారు? \\n\\n'"
      ]
     },
     "execution_count": 18,
     "metadata": {},
     "output_type": "execute_result"
    }
   ],
   "source": [
    "response = chain.invoke(\n",
    "    {\"messages\":[HumanMessage(content = \"Hi Name is Vamshi\")],\"language\":\"Telugu\"},\n",
    "    config = config\n",
    "    )\n",
    "response.content"
   ]
  },
  {
   "cell_type": "code",
   "execution_count": 19,
   "metadata": {},
   "outputs": [],
   "source": [
    "with_message_history = RunnableWithMessageHistory(\n",
    "    chain,\n",
    "    get_session_history,\n",
    "    input_messages_key= \"messages\"\n",
    ")\n"
   ]
  },
  {
   "cell_type": "code",
   "execution_count": 20,
   "metadata": {},
   "outputs": [
    {
     "data": {
      "text/plain": [
       "'నమస్కారం వంశీ! మీ పేరు వంశీ అని తెలుసుకున్నాను. 😊 \\n\\nమీరు ఏమి అడుగుతున్నారో చెప్పండి, నేను మీకు తోడ్పడటానికి సిద్ధంగా ఉన్నాను. \\n\\n'"
      ]
     },
     "execution_count": 20,
     "metadata": {},
     "output_type": "execute_result"
    }
   ],
   "source": [
    "config = {\"configurable\":{\"session_id\":\"chat4\"}}\n",
    "response = with_message_history.invoke({\n",
    "    \"messages\":[HumanMessage(content=\"Hi My Name is Vamshi\")],\n",
    "    \"language\":\"Telugu\"\n",
    "},\n",
    "config=config\n",
    ")\n",
    "response.content"
   ]
  },
  {
   "cell_type": "code",
   "execution_count": 21,
   "metadata": {},
   "outputs": [
    {
     "data": {
      "text/plain": [
       "'మీ పేరు వంశీ అనుకుంటున్నాను! 😊 \\n\\n\\n'"
      ]
     },
     "execution_count": 21,
     "metadata": {},
     "output_type": "execute_result"
    }
   ],
   "source": [
    "response = with_message_history.invoke({\n",
    "    \"messages\":[HumanMessage(content = \"What's My Name?\")],\n",
    "    \"language\":\"Telugu\"\n",
    "},\n",
    "config = config\n",
    ")\n",
    "response.content"
   ]
  },
  {
   "cell_type": "code",
   "execution_count": 22,
   "metadata": {},
   "outputs": [
    {
     "name": "stderr",
     "output_type": "stream",
     "text": [
      "/Users/vamshikrishna/Documents/GenAI/Langchain/venv/lib/python3.10/site-packages/tqdm/auto.py:21: TqdmWarning: IProgress not found. Please update jupyter and ipywidgets. See https://ipywidgets.readthedocs.io/en/stable/user_install.html\n",
      "  from .autonotebook import tqdm as notebook_tqdm\n",
      "/Users/vamshikrishna/Documents/GenAI/Langchain/venv/lib/python3.10/site-packages/transformers/tokenization_utils_base.py:1601: FutureWarning: `clean_up_tokenization_spaces` was not set. It will be set to `True` by default. This behavior will be depracted in transformers v4.45, and will be then set to `False` by default. For more details check this issue: https://github.com/huggingface/transformers/issues/31884\n",
      "  warnings.warn(\n"
     ]
    },
    {
     "data": {
      "text/plain": [
       "[SystemMessage(content='You are a Good AI Assistant'),\n",
       " HumanMessage(content='Hi I am Vamshi'),\n",
       " AIMessage(content='Hi Vamshi!'),\n",
       " HumanMessage(content='I like AI Engineering'),\n",
       " AIMessage(content='Nice'),\n",
       " HumanMessage(content=\"What's 5*5\"),\n",
       " AIMessage(content='25'),\n",
       " HumanMessage(content='Thanks AI'),\n",
       " AIMessage(content='You are Welcome')]"
      ]
     },
     "execution_count": 22,
     "metadata": {},
     "output_type": "execute_result"
    }
   ],
   "source": [
    "from langchain_core.messages import SystemMessage, trim_messages\n",
    "trimmer = trim_messages(\n",
    "    max_tokens = 60,\n",
    "    strategy = \"last\",\n",
    "    token_counter = model,\n",
    "    include_system = True,\n",
    "    allow_partial = False,\n",
    "    start_on = \"human\"\n",
    ")\n",
    "messages = [\n",
    "    SystemMessage(content = \"You are a Good AI Assistant\"),\n",
    "    HumanMessage(content= \"Hi I am Vamshi\"),\n",
    "    AIMessage(content = \"Hi Vamshi!\"),\n",
    "    HumanMessage(content= \"I like AI Engineering\"),\n",
    "    AIMessage(content = \"Nice\"),\n",
    "    HumanMessage(content= \"What's 5*5\"),\n",
    "    AIMessage(content=\"25\"),\n",
    "    HumanMessage(content= \"Thanks AI\"),\n",
    "    AIMessage(content=\"You are Welcome\"),\n",
    "\n",
    "]\n",
    "trimmer.invoke(messages)"
   ]
  },
  {
   "cell_type": "code",
   "execution_count": 23,
   "metadata": {},
   "outputs": [
    {
     "data": {
      "text/plain": [
       "'Your name is Vamshi, you told me at the beginning!  😄  \\n'"
      ]
     },
     "execution_count": 23,
     "metadata": {},
     "output_type": "execute_result"
    }
   ],
   "source": [
    "from operator import itemgetter\n",
    "from langchain_core.runnables import RunnablePassthrough\n",
    "chain = (RunnablePassthrough.assign(messages = itemgetter(\"messages\")|trimmer)|prompt|model)\n",
    "response = chain.invoke({\"messages\":messages + [HumanMessage(content = \"What is my name\")], \n",
    "                        \"language\":\"English\"})\n",
    "response.content"
   ]
  },
  {
   "cell_type": "code",
   "execution_count": 30,
   "metadata": {},
   "outputs": [],
   "source": [
    "#Wrap the Message History\n",
    "with_message_history = RunnableWithMessageHistory(\n",
    "    chain,\n",
    "    get_session_history,\n",
    "    input_messages_key = \"messages\",\n",
    ")\n",
    "config = {\"configurable\":{\"session_id\":\"chat5\"}}"
   ]
  },
  {
   "cell_type": "code",
   "execution_count": 31,
   "metadata": {},
   "outputs": [
    {
     "data": {
      "text/plain": [
       "\"As a large language model, I don't have access to any personal information about you, including your name. \\n\\nIf you'd like to tell me your name, I'd be happy to know! 😊  \\n\""
      ]
     },
     "execution_count": 31,
     "metadata": {},
     "output_type": "execute_result"
    }
   ],
   "source": [
    "response = with_message_history.invoke({\n",
    "    \"messages\":[HumanMessage(content = \"What's My Name?\")],\n",
    "    \"language\":\"English\"\n",
    "},\n",
    "config = config\n",
    ")\n",
    "response.content"
   ]
  },
  {
   "cell_type": "code",
   "execution_count": 32,
   "metadata": {},
   "outputs": [
    {
     "data": {
      "text/plain": [
       "\"Please provide me with the math problem you'd like me to help you with! I'm ready when you are. 😊 \\n\""
      ]
     },
     "execution_count": 32,
     "metadata": {},
     "output_type": "execute_result"
    }
   ],
   "source": [
    "response = with_message_history.invoke({\n",
    "    \"messages\":[HumanMessage(content = \"What math problem did i ask?\")],\n",
    "    \"language\":\"English\"\n",
    "},\n",
    "config = config\n",
    ")\n",
    "response.content"
   ]
  },
  {
   "cell_type": "code",
   "execution_count": null,
   "metadata": {},
   "outputs": [],
   "source": []
  }
 ],
 "metadata": {
  "kernelspec": {
   "display_name": "Python 3",
   "language": "python",
   "name": "python3"
  },
  "language_info": {
   "codemirror_mode": {
    "name": "ipython",
    "version": 3
   },
   "file_extension": ".py",
   "mimetype": "text/x-python",
   "name": "python",
   "nbconvert_exporter": "python",
   "pygments_lexer": "ipython3",
   "version": "3.10.14"
  }
 },
 "nbformat": 4,
 "nbformat_minor": 2
}
